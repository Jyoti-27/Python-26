{
 "cells": [
  {
   "cell_type": "code",
   "execution_count": 3,
   "metadata": {},
   "outputs": [],
   "source": [
    "import pandas as pd"
   ]
  },
  {
   "cell_type": "markdown",
   "metadata": {},
   "source": [
    "# Series Concatenation"
   ]
  },
  {
   "cell_type": "code",
   "execution_count": 3,
   "metadata": {},
   "outputs": [
    {
     "data": {
      "text/plain": [
       "1    A\n",
       "2    B\n",
       "3    C\n",
       "dtype: object"
      ]
     },
     "execution_count": 3,
     "metadata": {},
     "output_type": "execute_result"
    }
   ],
   "source": [
    "ser1=pd.Series(['A', 'B', 'C'], index=[1,2,3])\n",
    "ser1"
   ]
  },
  {
   "cell_type": "code",
   "execution_count": 7,
   "metadata": {},
   "outputs": [
    {
     "data": {
      "text/plain": [
       "4    D\n",
       "5    E\n",
       "6    F\n",
       "dtype: object"
      ]
     },
     "execution_count": 7,
     "metadata": {},
     "output_type": "execute_result"
    }
   ],
   "source": [
    "ser2=pd.Series(['D', 'E', 'F'], index=[4,5,6])\n",
    "ser2"
   ]
  },
  {
   "cell_type": "code",
   "execution_count": 8,
   "metadata": {},
   "outputs": [
    {
     "name": "stdout",
     "output_type": "stream",
     "text": [
      "Concatenated Series is \n",
      " 1    A\n",
      "2    B\n",
      "3    C\n",
      "4    D\n",
      "5    E\n",
      "6    F\n",
      "dtype: object\n"
     ]
    }
   ],
   "source": [
    "# Concat() function  for concatenating the series\n",
    "# stack the series one below the other\n",
    "print(\"Concatenated Series is \\n\", pd.concat([ser1, ser2]))"
   ]
  },
  {
   "cell_type": "code",
   "execution_count": 11,
   "metadata": {},
   "outputs": [
    {
     "data": {
      "text/plain": [
       "9     F\n",
       "10    G\n",
       "11    H\n",
       "dtype: object"
      ]
     },
     "execution_count": 11,
     "metadata": {},
     "output_type": "execute_result"
    }
   ],
   "source": [
    "ser3=pd.Series(['F', 'G', 'H'], index=[9,10,11])\n",
    "ser3"
   ]
  },
  {
   "cell_type": "code",
   "execution_count": 12,
   "metadata": {},
   "outputs": [
    {
     "name": "stdout",
     "output_type": "stream",
     "text": [
      "1     A\n",
      "2     B\n",
      "3     C\n",
      "4     D\n",
      "5     E\n",
      "6     F\n",
      "9     F\n",
      "10    G\n",
      "11    H\n",
      "dtype: object\n"
     ]
    }
   ],
   "source": [
    "list=[ser1,ser2,ser3]\n",
    "print(pd.concat(list))"
   ]
  },
  {
   "cell_type": "markdown",
   "metadata": {},
   "source": [
    "# DataFrame Concatenation"
   ]
  },
  {
   "cell_type": "code",
   "execution_count": 15,
   "metadata": {},
   "outputs": [
    {
     "data": {
      "text/html": [
       "<div>\n",
       "<style scoped>\n",
       "    .dataframe tbody tr th:only-of-type {\n",
       "        vertical-align: middle;\n",
       "    }\n",
       "\n",
       "    .dataframe tbody tr th {\n",
       "        vertical-align: top;\n",
       "    }\n",
       "\n",
       "    .dataframe thead th {\n",
       "        text-align: right;\n",
       "    }\n",
       "</style>\n",
       "<table border=\"1\" class=\"dataframe\">\n",
       "  <thead>\n",
       "    <tr style=\"text-align: right;\">\n",
       "      <th></th>\n",
       "      <th>A</th>\n",
       "      <th>B</th>\n",
       "      <th>C</th>\n",
       "    </tr>\n",
       "  </thead>\n",
       "  <tbody>\n",
       "    <tr>\n",
       "      <th>0</th>\n",
       "      <td>axe</td>\n",
       "      <td>bat</td>\n",
       "      <td>cat</td>\n",
       "    </tr>\n",
       "    <tr>\n",
       "      <th>1</th>\n",
       "      <td>art</td>\n",
       "      <td>bar</td>\n",
       "      <td>cap</td>\n",
       "    </tr>\n",
       "    <tr>\n",
       "      <th>2</th>\n",
       "      <td>ant</td>\n",
       "      <td>bin</td>\n",
       "      <td>car</td>\n",
       "    </tr>\n",
       "  </tbody>\n",
       "</table>\n",
       "</div>"
      ],
      "text/plain": [
       "     A    B    C\n",
       "0  axe  bat  cat\n",
       "1  art  bar  cap\n",
       "2  ant  bin  car"
      ]
     },
     "execution_count": 15,
     "metadata": {},
     "output_type": "execute_result"
    }
   ],
   "source": [
    "df1=pd.DataFrame({'A' :['axe', 'art', 'ant'], 'B' :['bat', 'bar', 'bin'], 'C' :['cat', 'cap', 'car']}) # create DataFrame as a Dictionary of list\n",
    "df1"
   ]
  },
  {
   "cell_type": "code",
   "execution_count": 18,
   "metadata": {},
   "outputs": [
    {
     "data": {
      "text/html": [
       "<div>\n",
       "<style scoped>\n",
       "    .dataframe tbody tr th:only-of-type {\n",
       "        vertical-align: middle;\n",
       "    }\n",
       "\n",
       "    .dataframe tbody tr th {\n",
       "        vertical-align: top;\n",
       "    }\n",
       "\n",
       "    .dataframe thead th {\n",
       "        text-align: right;\n",
       "    }\n",
       "</style>\n",
       "<table border=\"1\" class=\"dataframe\">\n",
       "  <thead>\n",
       "    <tr style=\"text-align: right;\">\n",
       "      <th></th>\n",
       "      <th>D</th>\n",
       "      <th>E</th>\n",
       "      <th>F</th>\n",
       "    </tr>\n",
       "  </thead>\n",
       "  <tbody>\n",
       "    <tr>\n",
       "      <th>0</th>\n",
       "      <td>dog</td>\n",
       "      <td>ear</td>\n",
       "      <td>fan</td>\n",
       "    </tr>\n",
       "    <tr>\n",
       "      <th>1</th>\n",
       "      <td>den</td>\n",
       "      <td>eat</td>\n",
       "      <td>fat</td>\n",
       "    </tr>\n",
       "    <tr>\n",
       "      <th>2</th>\n",
       "      <td>dot</td>\n",
       "      <td>egg</td>\n",
       "      <td>fog</td>\n",
       "    </tr>\n",
       "  </tbody>\n",
       "</table>\n",
       "</div>"
      ],
      "text/plain": [
       "     D    E    F\n",
       "0  dog  ear  fan\n",
       "1  den  eat  fat\n",
       "2  dot  egg  fog"
      ]
     },
     "execution_count": 18,
     "metadata": {},
     "output_type": "execute_result"
    }
   ],
   "source": [
    "df2=pd.DataFrame({'D' :['dog', 'den', 'dot'], 'E' :['ear', 'eat', 'egg'], 'F' :['fan', 'fat', 'fog']}) # create DataFrame as a Dictionary of list\n",
    "df2"
   ]
  },
  {
   "cell_type": "markdown",
   "metadata": {},
   "source": [
    "# Concatenation can be rowwise one DF below another axis=0\n",
    "# columns stacked alongside axis=1"
   ]
  },
  {
   "cell_type": "code",
   "execution_count": 19,
   "metadata": {},
   "outputs": [
    {
     "name": "stdout",
     "output_type": "stream",
     "text": [
      "Concatenated DataFrame axis=0\n",
      "      A    B    C    D    E    F\n",
      "0  axe  bat  cat  NaN  NaN  NaN\n",
      "1  art  bar  cap  NaN  NaN  NaN\n",
      "2  ant  bin  car  NaN  NaN  NaN\n",
      "0  NaN  NaN  NaN  dog  ear  fan\n",
      "1  NaN  NaN  NaN  den  eat  fat\n",
      "2  NaN  NaN  NaN  dot  egg  fog\n"
     ]
    }
   ],
   "source": [
    "print(\"Concatenated DataFrame axis=0\\n\", pd.concat([df1,df2], axis=0))"
   ]
  },
  {
   "cell_type": "code",
   "execution_count": 21,
   "metadata": {},
   "outputs": [
    {
     "name": "stdout",
     "output_type": "stream",
     "text": [
      "Concatenated DataFrame axis=1\n",
      "      A    B    C    D    E    F\n",
      "0  axe  bat  cat  dog  ear  fan\n",
      "1  art  bar  cap  den  eat  fat\n",
      "2  ant  bin  car  dot  egg  fog\n"
     ]
    }
   ],
   "source": [
    "print(\"Concatenated DataFrame axis=1\\n\", pd.concat([df1,df2], axis=1))"
   ]
  },
  {
   "cell_type": "code",
   "execution_count": 22,
   "metadata": {},
   "outputs": [
    {
     "data": {
      "text/html": [
       "<div>\n",
       "<style scoped>\n",
       "    .dataframe tbody tr th:only-of-type {\n",
       "        vertical-align: middle;\n",
       "    }\n",
       "\n",
       "    .dataframe tbody tr th {\n",
       "        vertical-align: top;\n",
       "    }\n",
       "\n",
       "    .dataframe thead th {\n",
       "        text-align: right;\n",
       "    }\n",
       "</style>\n",
       "<table border=\"1\" class=\"dataframe\">\n",
       "  <thead>\n",
       "    <tr style=\"text-align: right;\">\n",
       "      <th></th>\n",
       "      <th>A</th>\n",
       "      <th>B</th>\n",
       "      <th>C</th>\n",
       "    </tr>\n",
       "  </thead>\n",
       "  <tbody>\n",
       "    <tr>\n",
       "      <th>0</th>\n",
       "      <td>axe</td>\n",
       "      <td>bat</td>\n",
       "      <td>cat</td>\n",
       "    </tr>\n",
       "    <tr>\n",
       "      <th>1</th>\n",
       "      <td>art</td>\n",
       "      <td>bar</td>\n",
       "      <td>cap</td>\n",
       "    </tr>\n",
       "    <tr>\n",
       "      <th>2</th>\n",
       "      <td>ant</td>\n",
       "      <td>bin</td>\n",
       "      <td>car</td>\n",
       "    </tr>\n",
       "  </tbody>\n",
       "</table>\n",
       "</div>"
      ],
      "text/plain": [
       "     A    B    C\n",
       "0  axe  bat  cat\n",
       "1  art  bar  cap\n",
       "2  ant  bin  car"
      ]
     },
     "execution_count": 22,
     "metadata": {},
     "output_type": "execute_result"
    }
   ],
   "source": [
    "df3=pd.DataFrame({'A' :['axe', 'art', 'ant'], 'B' :['bat', 'bar', 'bin'], 'C' :['cat', 'cap', 'car']}) # create DataFrame as a Dictionary of list\n",
    "df1"
   ]
  },
  {
   "cell_type": "code",
   "execution_count": 23,
   "metadata": {},
   "outputs": [
    {
     "data": {
      "text/html": [
       "<div>\n",
       "<style scoped>\n",
       "    .dataframe tbody tr th:only-of-type {\n",
       "        vertical-align: middle;\n",
       "    }\n",
       "\n",
       "    .dataframe tbody tr th {\n",
       "        vertical-align: top;\n",
       "    }\n",
       "\n",
       "    .dataframe thead th {\n",
       "        text-align: right;\n",
       "    }\n",
       "</style>\n",
       "<table border=\"1\" class=\"dataframe\">\n",
       "  <thead>\n",
       "    <tr style=\"text-align: right;\">\n",
       "      <th></th>\n",
       "      <th>D</th>\n",
       "      <th>B</th>\n",
       "      <th>C</th>\n",
       "    </tr>\n",
       "  </thead>\n",
       "  <tbody>\n",
       "    <tr>\n",
       "      <th>0</th>\n",
       "      <td>dog</td>\n",
       "      <td>ear</td>\n",
       "      <td>fan</td>\n",
       "    </tr>\n",
       "    <tr>\n",
       "      <th>1</th>\n",
       "      <td>den</td>\n",
       "      <td>eat</td>\n",
       "      <td>fat</td>\n",
       "    </tr>\n",
       "    <tr>\n",
       "      <th>2</th>\n",
       "      <td>dot</td>\n",
       "      <td>egg</td>\n",
       "      <td>fog</td>\n",
       "    </tr>\n",
       "  </tbody>\n",
       "</table>\n",
       "</div>"
      ],
      "text/plain": [
       "     D    B    C\n",
       "0  dog  ear  fan\n",
       "1  den  eat  fat\n",
       "2  dot  egg  fog"
      ]
     },
     "execution_count": 23,
     "metadata": {},
     "output_type": "execute_result"
    }
   ],
   "source": [
    "df4=pd.DataFrame({'D' :['dog', 'den', 'dot'], 'B' :['ear', 'eat', 'egg'], 'C' :['fan', 'fat', 'fog']}) # create DataFrame as a Dictionary of list\n",
    "df4"
   ]
  },
  {
   "cell_type": "code",
   "execution_count": 25,
   "metadata": {},
   "outputs": [
    {
     "name": "stdout",
     "output_type": "stream",
     "text": [
      "Concatenated DataFrame axis=0\n",
      "      A    B    C    D\n",
      "0  axe  bat  cat  NaN\n",
      "1  art  bar  cap  NaN\n",
      "2  ant  bin  car  NaN\n",
      "0  NaN  ear  fan  dog\n",
      "1  NaN  eat  fat  den\n",
      "2  NaN  egg  fog  dot\n"
     ]
    }
   ],
   "source": [
    "print(\"Concatenated DataFrame axis=0\\n\", pd.concat([df3,df4], axis=0))# axis = 0 overlapping is there\n",
    "# for overlapping columns the values are also stacked below\n",
    "# concatenation  with axis = 0 considers the overlap of columns"
   ]
  },
  {
   "cell_type": "code",
   "execution_count": 26,
   "metadata": {},
   "outputs": [
    {
     "name": "stdout",
     "output_type": "stream",
     "text": [
      "Concatenated DataFrame axis=1\n",
      "      A    B    C    D    B    C\n",
      "0  axe  bat  cat  dog  ear  fan\n",
      "1  art  bar  cap  den  eat  fat\n",
      "2  ant  bin  car  dot  egg  fog\n"
     ]
    }
   ],
   "source": [
    "print(\"Concatenated DataFrame axis=1\\n\", pd.concat([df3,df4], axis=1)) # axis = 1 no overlapping\n",
    "# for overlapping columns the values are also stacked below\n",
    "# concatenation  with axis = 1 considers the overlap of columns"
   ]
  },
  {
   "cell_type": "code",
   "execution_count": 28,
   "metadata": {},
   "outputs": [
    {
     "name": "stdout",
     "output_type": "stream",
     "text": [
      "Concatenated DataFrame axis=0\n",
      "      A    B    C    D    E    F\n",
      "0  axe  bat  cat  NaN  NaN  NaN\n",
      "1  art  bar  cap  NaN  NaN  NaN\n",
      "2  ant  bin  car  NaN  NaN  NaN\n",
      "3  NaN  NaN  NaN  dog  ear  fan\n",
      "4  NaN  NaN  NaN  den  eat  fat\n",
      "5  NaN  NaN  NaN  dot  egg  fog\n"
     ]
    }
   ],
   "source": [
    "print(\"Concatenated DataFrame axis=0\\n\", pd.concat([df1,df2], ignore_index=True)) # generated new indexes of DataFrame"
   ]
  },
  {
   "cell_type": "code",
   "execution_count": 29,
   "metadata": {},
   "outputs": [
    {
     "name": "stdout",
     "output_type": "stream",
     "text": [
      "Concatenated DataFrame axis=1\n",
      "      A    B    C    D    E    F\n",
      "0  axe  bat  cat  NaN  NaN  NaN\n",
      "1  art  bar  cap  NaN  NaN  NaN\n",
      "2  ant  bin  car  NaN  NaN  NaN\n",
      "3  NaN  NaN  NaN  dog  ear  fan\n",
      "4  NaN  NaN  NaN  den  eat  fat\n",
      "5  NaN  NaN  NaN  dot  egg  fog\n"
     ]
    }
   ],
   "source": [
    "print(\"Concatenated DataFrame axis=1\\n\", pd.concat([df1,df2], ignore_index=True))"
   ]
  },
  {
   "cell_type": "code",
   "execution_count": 32,
   "metadata": {},
   "outputs": [
    {
     "name": "stdout",
     "output_type": "stream",
     "text": [
      "     A    B    C\n",
      "0  axe  bat  cat\n",
      "1  art  bar  cap\n",
      "2  ant  bin  car\n",
      "     D    E    F\n",
      "0  dog  ear  fan\n",
      "1  den  eat  fat\n",
      "2  dot  egg  fog\n",
      "Concatenation DataFrames axis=0\n",
      "      A    B    C    D    E    F\n",
      "0  axe  bat  cat  NaN  NaN  NaN\n",
      "1  art  bar  cap  NaN  NaN  NaN\n",
      "2  ant  bin  car  NaN  NaN  NaN\n",
      "0  NaN  NaN  NaN  dog  ear  fan\n",
      "1  NaN  NaN  NaN  den  eat  fat\n",
      "2  NaN  NaN  NaN  dot  egg  fog\n"
     ]
    }
   ],
   "source": [
    "df1=pd.DataFrame({'A' :['axe', 'art', 'ant'], 'B' :['bat', 'bar', 'bin'], 'C' :['cat', 'cap', 'car']}) # create DataFrame as a Dictionary of list\n",
    "df2=pd.DataFrame({'D' :['dog', 'den', 'dot'], 'E' :['ear', 'eat', 'egg'], 'F' :['fan', 'fat', 'fog']}) # create DataFrame as a Dictionary of list\n",
    "print(df1)\n",
    "print(df2)\n",
    "print(\"Concatenation DataFrames axis=0\\n\", pd.concat([df1,df2], axis=0))"
   ]
  },
  {
   "cell_type": "code",
   "execution_count": 33,
   "metadata": {},
   "outputs": [
    {
     "name": "stdout",
     "output_type": "stream",
     "text": [
      "     A    B    C\n",
      "0  axe  bat  cat\n",
      "1  art  bar  cap\n",
      "2  ant  bin  car\n",
      "     D    E    F\n",
      "0  dog  ear  fan\n",
      "1  den  eat  fat\n",
      "2  dot  egg  fog\n",
      "Concatenation DataFrames axis=1\n",
      "      A    B    C    D    E    F\n",
      "0  axe  bat  cat  dog  ear  fan\n",
      "1  art  bar  cap  den  eat  fat\n",
      "2  ant  bin  car  dot  egg  fog\n"
     ]
    }
   ],
   "source": [
    "df1=pd.DataFrame({'A' :['axe', 'art', 'ant'], 'B' :['bat', 'bar', 'bin'], 'C' :['cat', 'cap', 'car']}) # create DataFrame as a Dictionary of list\n",
    "df2=pd.DataFrame({'D' :['dog', 'den', 'dot'], 'E' :['ear', 'eat', 'egg'], 'F' :['fan', 'fat', 'fog']}) # create DataFrame as a Dictionary of list\n",
    "print(df1)\n",
    "print(df2)\n",
    "print(\"Concatenation DataFrames axis=1\\n\", pd.concat([df1,df2], axis=1)) #with repeated columns, it will just append the columns and consider common rows"
   ]
  },
  {
   "cell_type": "code",
   "execution_count": 34,
   "metadata": {},
   "outputs": [
    {
     "name": "stdout",
     "output_type": "stream",
     "text": [
      "     A    B    C\n",
      "0  axe  bat  cat\n",
      "1  art  bar  cap\n",
      "2  ant  bin  car\n",
      "     D    E    F\n",
      "0  dog  ear  fan\n",
      "1  den  eat  fat\n",
      "2  dot  egg  fog\n",
      "Concatenation DataFrames axis=0\n",
      "      A    B    C    D    E    F\n",
      "0  axe  bat  cat  NaN  NaN  NaN\n",
      "1  art  bar  cap  NaN  NaN  NaN\n",
      "2  ant  bin  car  NaN  NaN  NaN\n",
      "3  NaN  NaN  NaN  dog  ear  fan\n",
      "4  NaN  NaN  NaN  den  eat  fat\n",
      "5  NaN  NaN  NaN  dot  egg  fog\n"
     ]
    }
   ],
   "source": [
    "df1=pd.DataFrame({'A' :['axe', 'art', 'ant'], 'B' :['bat', 'bar', 'bin'], 'C' :['cat', 'cap', 'car']}) # create DataFrame as a Dictionary of list\n",
    "df2=pd.DataFrame({'D' :['dog', 'den', 'dot'], 'E' :['ear', 'eat', 'egg'], 'F' :['fan', 'fat', 'fog']}) # create DataFrame as a Dictionary of list\n",
    "print(df1)\n",
    "print(df2)\n",
    "print(\"Concatenation DataFrames axis=0\\n\", pd.concat([df1,df2], ignore_index=True))"
   ]
  },
  {
   "cell_type": "markdown",
   "metadata": {},
   "source": [
    "### Axis=0 \n",
    "# Concatenation just appends on DataFrame below another\n",
    "# Considers the intersection of columns stacks values for them one below other\n",
    "# rowwise indices if there is repeatation it reins the repeatations"
   ]
  },
  {
   "cell_type": "markdown",
   "metadata": {},
   "source": [
    "### Axis=1 \n",
    "# Concatenation just appends alongside the other columns are put together\n",
    "# Considers the intersection of rows stacks values for them one on the side of the other\n",
    "# columns indices(columns name) if there is repeatation it reins the repeatations"
   ]
  },
  {
   "cell_type": "code",
   "execution_count": 36,
   "metadata": {},
   "outputs": [
    {
     "name": "stdout",
     "output_type": "stream",
     "text": [
      "     A    B    C\n",
      "1  axe  bat  cat\n",
      "2  art  bar  cap\n",
      "3  ant  bin  car\n",
      "     D    E    F\n",
      "1  dog  ear  fan\n",
      "2  den  eat  fat\n",
      "3  dot  egg  fog\n",
      "Concatenation DataFrames axis=0\n",
      "      A    B    C    D    E    F\n",
      "0  axe  bat  cat  NaN  NaN  NaN\n",
      "1  art  bar  cap  NaN  NaN  NaN\n",
      "2  ant  bin  car  NaN  NaN  NaN\n",
      "3  NaN  NaN  NaN  dog  ear  fan\n",
      "4  NaN  NaN  NaN  den  eat  fat\n",
      "5  NaN  NaN  NaN  dot  egg  fog\n"
     ]
    }
   ],
   "source": [
    "df1=pd.DataFrame({'A' :['axe', 'art', 'ant'], 'B' :['bat', 'bar', 'bin'], 'C' :['cat', 'cap', 'car']}, index=[1,2,3]) # create DataFrame as a Dictionary of list\n",
    "df2=pd.DataFrame({'D' :['dog', 'den', 'dot'], 'E' :['ear', 'eat', 'egg'], 'F' :['fan', 'fat', 'fog']}, index=[1,2,3]) # create DataFrame as a Dictionary of list\n",
    "print(df1)\n",
    "print(df2)\n",
    "print(\"Concatenation DataFrames axis=0\\n\", pd.concat([df1,df2], ignore_index=True))"
   ]
  },
  {
   "cell_type": "code",
   "execution_count": 37,
   "metadata": {},
   "outputs": [
    {
     "name": "stdout",
     "output_type": "stream",
     "text": [
      "     A    B    C\n",
      "1  axe  bat  cat\n",
      "2  art  bar  cap\n",
      "3  ant  bin  car\n",
      "     D    E    F\n",
      "1  dog  ear  fan\n",
      "2  den  eat  fat\n",
      "3  dot  egg  fog\n",
      "Concatenation DataFrames axis=1\n",
      "      A    B    C    D    E    F\n",
      "1  axe  bat  cat  dog  ear  fan\n",
      "2  art  bar  cap  den  eat  fat\n",
      "3  ant  bin  car  dot  egg  fog\n"
     ]
    }
   ],
   "source": [
    "# case for no common columns\n",
    "df1=pd.DataFrame({'A' :['axe', 'art', 'ant'], 'B' :['bat', 'bar', 'bin'], 'C' :['cat', 'cap', 'car']}, index=[1,2,3]) # create DataFrame as a Dictionary of list\n",
    "df2=pd.DataFrame({'D' :['dog', 'den', 'dot'], 'E' :['ear', 'eat', 'egg'], 'F' :['fan', 'fat', 'fog']}, index=[1,2,3]) # create DataFrame as a Dictionary of list\n",
    "print(df1)\n",
    "print(df2)\n",
    "print(\"Concatenation DataFrames axis=1\\n\", pd.concat([df1,df2], axis=1))"
   ]
  },
  {
   "cell_type": "markdown",
   "metadata": {},
   "source": [
    "* eg: of two files having common ampides and different columns\n",
    "* one file has name and address\n",
    "* another file has dept. salary"
   ]
  },
  {
   "cell_type": "code",
   "execution_count": 38,
   "metadata": {},
   "outputs": [
    {
     "name": "stdout",
     "output_type": "stream",
     "text": [
      "     A    B    C\n",
      "1  axe  bat  cat\n",
      "2  art  bar  cap\n",
      "3  ant  bin  car\n",
      "     D    E    F\n",
      "2  dog  ear  fan\n",
      "3  den  eat  fat\n",
      "4  dot  egg  fog\n",
      "Concatenation DataFrames axis=1\n",
      "      A    B    C    D    E    F\n",
      "1  axe  bat  cat  NaN  NaN  NaN\n",
      "2  art  bar  cap  dog  ear  fan\n",
      "3  ant  bin  car  den  eat  fat\n",
      "4  NaN  NaN  NaN  dot  egg  fog\n"
     ]
    }
   ],
   "source": [
    "# case for common columns\n",
    "df1=pd.DataFrame({'A' :['axe', 'art', 'ant'], 'B' :['bat', 'bar', 'bin'], 'C' :['cat', 'cap', 'car']}, index=[1,2,3]) # create DataFrame as a Dictionary of list\n",
    "df2=pd.DataFrame({'D' :['dog', 'den', 'dot'], 'E' :['ear', 'eat', 'egg'], 'F' :['fan', 'fat', 'fog']}, index=[2,3,4]) # create DataFrame as a Dictionary of list\n",
    "print(df1)\n",
    "print(df2)\n",
    "print(\"Concatenation DataFrames axis=1\\n\", pd.concat([df1,df2], axis=1))"
   ]
  },
  {
   "cell_type": "code",
   "execution_count": 39,
   "metadata": {},
   "outputs": [
    {
     "name": "stdout",
     "output_type": "stream",
     "text": [
      "     A    B    C\n",
      "1  axe  bat  cat\n",
      "2  art  bar  cap\n",
      "3  ant  bin  car\n",
      "     D    E    F\n",
      "2  dog  ear  fan\n",
      "3  den  eat  fat\n",
      "4  dot  egg  fog\n",
      "Concatenation DataFrames axis=1\n",
      "      A    B    C    D    E    F\n",
      "1  axe  bat  cat  NaN  NaN  NaN\n",
      "2  art  bar  cap  dog  ear  fan\n",
      "3  ant  bin  car  den  eat  fat\n",
      "4  NaN  NaN  NaN  dot  egg  fog\n"
     ]
    }
   ],
   "source": [
    "# case for common rows indices columns\n",
    "df1=pd.DataFrame({'A' :['axe', 'art', 'ant'], 'B' :['bat', 'bar', 'bin'], 'C' :['cat', 'cap', 'car']}, index=[1,2,3]) # create DataFrame as a Dictionary of list\n",
    "df2=pd.DataFrame({'D' :['dog', 'den', 'dot'], 'E' :['ear', 'eat', 'egg'], 'F' :['fan', 'fat', 'fog']}, index=[2,3,4]) # create DataFrame as a Dictionary of list\n",
    "print(df1)\n",
    "print(df2)\n",
    "print(\"Concatenation DataFrames axis=1\\n\", pd.concat([df1,df2], axis=1))"
   ]
  },
  {
   "cell_type": "code",
   "execution_count": 40,
   "metadata": {},
   "outputs": [
    {
     "name": "stdout",
     "output_type": "stream",
     "text": [
      "     A    B    C\n",
      "1  axe  bat  cat\n",
      "2  art  bar  cap\n",
      "3  ant  bin  car\n",
      "     D    E    F\n",
      "4  dog  ear  fan\n",
      "5  den  eat  fat\n",
      "6  dot  egg  fog\n",
      "Concatenation DataFrames axis=1\n",
      "      A    B    C    D    E    F\n",
      "1  axe  bat  cat  NaN  NaN  NaN\n",
      "2  art  bar  cap  NaN  NaN  NaN\n",
      "3  ant  bin  car  NaN  NaN  NaN\n",
      "4  NaN  NaN  NaN  dog  ear  fan\n",
      "5  NaN  NaN  NaN  den  eat  fat\n",
      "6  NaN  NaN  NaN  dot  egg  fog\n"
     ]
    }
   ],
   "source": [
    "# case for no common rows indices columns\n",
    "df1=pd.DataFrame({'A' :['axe', 'art', 'ant'], 'B' :['bat', 'bar', 'bin'], 'C' :['cat', 'cap', 'car']}, index=[1,2,3]) # create DataFrame as a Dictionary of list\n",
    "df2=pd.DataFrame({'D' :['dog', 'den', 'dot'], 'E' :['ear', 'eat', 'egg'], 'F' :['fan', 'fat', 'fog']}, index=[4,5,6]) # create DataFrame as a Dictionary of list\n",
    "print(df1)\n",
    "print(df2)\n",
    "print(\"Concatenation DataFrames axis=1\\n\", pd.concat([df1,df2], axis=1))"
   ]
  },
  {
   "cell_type": "code",
   "execution_count": 41,
   "metadata": {},
   "outputs": [
    {
     "name": "stdout",
     "output_type": "stream",
     "text": [
      "     A    B    C\n",
      "1  axe  bat  cat\n",
      "2  art  bar  cap\n",
      "3  ant  bin  car\n",
      "     D    E    F\n",
      "4  dog  ear  fan\n",
      "5  den  eat  fat\n",
      "6  dot  egg  fog\n",
      "Concatenation DataFrames axis=0\n",
      "      A    B    C    D    E    F\n",
      "1  axe  bat  cat  NaN  NaN  NaN\n",
      "2  art  bar  cap  NaN  NaN  NaN\n",
      "3  ant  bin  car  NaN  NaN  NaN\n",
      "4  NaN  NaN  NaN  dog  ear  fan\n",
      "5  NaN  NaN  NaN  den  eat  fat\n",
      "6  NaN  NaN  NaN  dot  egg  fog\n"
     ]
    }
   ],
   "source": [
    "# case for no common rows indices columns\n",
    "df1=pd.DataFrame({'A' :['axe', 'art', 'ant'], 'B' :['bat', 'bar', 'bin'], 'C' :['cat', 'cap', 'car']}, index=[1,2,3]) # create DataFrame as a Dictionary of list\n",
    "df2=pd.DataFrame({'D' :['dog', 'den', 'dot'], 'E' :['ear', 'eat', 'egg'], 'F' :['fan', 'fat', 'fog']}, index=[4,5,6]) # create DataFrame as a Dictionary of list\n",
    "print(df1)\n",
    "print(df2)\n",
    "print(\"Concatenation DataFrames axis=0\\n\", pd.concat([df1,df2], axis=0))\n",
    "# concatenation on axis=0 stacks the rows repeatition of the row is retained, stack the overlappingcolumn values\n",
    "# concatenation of axis=1 stacks the columns repeatition of the column is retained, stack the overlapping row values"
   ]
  },
  {
   "cell_type": "code",
   "execution_count": 42,
   "metadata": {},
   "outputs": [
    {
     "name": "stdout",
     "output_type": "stream",
     "text": [
      "     A    B    C\n",
      "1  axe  bat  cat\n",
      "2  art  bar  cap\n",
      "3  ant  bin  car\n",
      "     D    E    F\n",
      "4  dog  ear  fan\n",
      "5  den  eat  fat\n",
      "6  dot  egg  fog\n",
      "Concatenation DataFrames axis=1\n",
      "      A    B    C    D    E    F\n",
      "1  axe  bat  cat  NaN  NaN  NaN\n",
      "2  art  bar  cap  NaN  NaN  NaN\n",
      "3  ant  bin  car  NaN  NaN  NaN\n",
      "4  NaN  NaN  NaN  dog  ear  fan\n",
      "5  NaN  NaN  NaN  den  eat  fat\n",
      "6  NaN  NaN  NaN  dot  egg  fog\n"
     ]
    }
   ],
   "source": [
    "# case for no common rows indices columns\n",
    "df1=pd.DataFrame({'A' :['axe', 'art', 'ant'], 'B' :['bat', 'bar', 'bin'], 'C' :['cat', 'cap', 'car']}, index=[1,2,3]) # create DataFrame as a Dictionary of list\n",
    "df2=pd.DataFrame({'D' :['dog', 'den', 'dot'], 'E' :['ear', 'eat', 'egg'], 'F' :['fan', 'fat', 'fog']}, index=[4,5,6]) # create DataFrame as a Dictionary of list\n",
    "print(df1)\n",
    "print(df2)\n",
    "print(\"Concatenation DataFrames axis=1\\n\", pd.concat([df1,df2], axis=1))\n",
    "# concatenation on axis=0 stacks the rows repeatition of the row is retained, stack the overlappingcolumn values\n",
    "# concatenation of axis=1 stacks the columns repeatition of the column is retained, stack the overlapping row values"
   ]
  },
  {
   "cell_type": "code",
   "execution_count": null,
   "metadata": {},
   "outputs": [],
   "source": [
    "## Merge is based on common columns"
   ]
  },
  {
   "cell_type": "code",
   "execution_count": 44,
   "metadata": {},
   "outputs": [
    {
     "data": {
      "text/html": [
       "<div>\n",
       "<style scoped>\n",
       "    .dataframe tbody tr th:only-of-type {\n",
       "        vertical-align: middle;\n",
       "    }\n",
       "\n",
       "    .dataframe tbody tr th {\n",
       "        vertical-align: top;\n",
       "    }\n",
       "\n",
       "    .dataframe thead th {\n",
       "        text-align: right;\n",
       "    }\n",
       "</style>\n",
       "<table border=\"1\" class=\"dataframe\">\n",
       "  <thead>\n",
       "    <tr style=\"text-align: right;\">\n",
       "      <th></th>\n",
       "      <th>St_id</th>\n",
       "      <th>Branch</th>\n",
       "    </tr>\n",
       "  </thead>\n",
       "  <tbody>\n",
       "    <tr>\n",
       "      <th>0</th>\n",
       "      <td>101</td>\n",
       "      <td>IT</td>\n",
       "    </tr>\n",
       "    <tr>\n",
       "      <th>1</th>\n",
       "      <td>102</td>\n",
       "      <td>CS</td>\n",
       "    </tr>\n",
       "    <tr>\n",
       "      <th>2</th>\n",
       "      <td>103</td>\n",
       "      <td>ECE</td>\n",
       "    </tr>\n",
       "    <tr>\n",
       "      <th>3</th>\n",
       "      <td>104</td>\n",
       "      <td>CS</td>\n",
       "    </tr>\n",
       "    <tr>\n",
       "      <th>4</th>\n",
       "      <td>105</td>\n",
       "      <td>MECH</td>\n",
       "    </tr>\n",
       "  </tbody>\n",
       "</table>\n",
       "</div>"
      ],
      "text/plain": [
       "   St_id Branch\n",
       "0    101     IT\n",
       "1    102     CS\n",
       "2    103    ECE\n",
       "3    104     CS\n",
       "4    105   MECH"
      ]
     },
     "execution_count": 44,
     "metadata": {},
     "output_type": "execute_result"
    }
   ],
   "source": [
    "df_stud = pd.DataFrame({'St_id' :[101, 102,103,104,105], 'Branch' :['IT', 'CS', 'ECE', 'CS', 'MECH']})\n",
    "df_stud"
   ]
  },
  {
   "cell_type": "code",
   "execution_count": 49,
   "metadata": {},
   "outputs": [
    {
     "name": "stdout",
     "output_type": "stream",
     "text": [
      "Student DataFrame:\n",
      "    St_id Branch\n",
      "0    101     IT\n",
      "1    102     CS\n",
      "2    103    ECE\n",
      "3    104     CS\n",
      "4    105   MECH \n",
      " Faculty DataFrame :\n",
      "    F_id F_name Branch\n",
      "0   110      A    ECE\n",
      "1   120      B   MECH\n",
      "2   130      C    EEE\n",
      "3   140      D     IT\n",
      "4   150      E     CS\n"
     ]
    }
   ],
   "source": [
    "df_fac = pd.DataFrame({'F_id' :[110, 120,130,140,150],'F_name' :['A', 'B', 'C', 'D', 'E'], 'Branch' :['ECE', 'MECH', 'EEE', 'IT', 'CS']})\n",
    "print(\"Student DataFrame:\\n\", df_stud, '\\n Faculty DataFrame :\\n', df_fac)"
   ]
  },
  {
   "cell_type": "code",
   "execution_count": 50,
   "metadata": {},
   "outputs": [
    {
     "name": "stdout",
     "output_type": "stream",
     "text": [
      "Student DataFrame:\n",
      "    St_id Branch\n",
      "0    101     IT\n",
      "1    102     CS\n",
      "2    103    ECE\n",
      "3    104     CS\n",
      "4    105   MECH \n",
      " Faculty DataFrame :\n",
      "    F_id F_name Branch\n",
      "0   110      A    ECE\n",
      "1   120      B   MECH\n",
      "2   130      C    EEE\n",
      "3   140      D     IT\n",
      "4   150      E     CS\n"
     ]
    },
    {
     "data": {
      "text/html": [
       "<div>\n",
       "<style scoped>\n",
       "    .dataframe tbody tr th:only-of-type {\n",
       "        vertical-align: middle;\n",
       "    }\n",
       "\n",
       "    .dataframe tbody tr th {\n",
       "        vertical-align: top;\n",
       "    }\n",
       "\n",
       "    .dataframe thead th {\n",
       "        text-align: right;\n",
       "    }\n",
       "</style>\n",
       "<table border=\"1\" class=\"dataframe\">\n",
       "  <thead>\n",
       "    <tr style=\"text-align: right;\">\n",
       "      <th></th>\n",
       "      <th>F_id</th>\n",
       "      <th>F_name</th>\n",
       "      <th>Branch</th>\n",
       "    </tr>\n",
       "  </thead>\n",
       "  <tbody>\n",
       "    <tr>\n",
       "      <th>0</th>\n",
       "      <td>110</td>\n",
       "      <td>A</td>\n",
       "      <td>ECE</td>\n",
       "    </tr>\n",
       "    <tr>\n",
       "      <th>1</th>\n",
       "      <td>120</td>\n",
       "      <td>B</td>\n",
       "      <td>MECH</td>\n",
       "    </tr>\n",
       "    <tr>\n",
       "      <th>2</th>\n",
       "      <td>130</td>\n",
       "      <td>C</td>\n",
       "      <td>EEE</td>\n",
       "    </tr>\n",
       "    <tr>\n",
       "      <th>3</th>\n",
       "      <td>140</td>\n",
       "      <td>D</td>\n",
       "      <td>IT</td>\n",
       "    </tr>\n",
       "    <tr>\n",
       "      <th>4</th>\n",
       "      <td>150</td>\n",
       "      <td>E</td>\n",
       "      <td>CS</td>\n",
       "    </tr>\n",
       "  </tbody>\n",
       "</table>\n",
       "</div>"
      ],
      "text/plain": [
       "   F_id F_name Branch\n",
       "0   110      A    ECE\n",
       "1   120      B   MECH\n",
       "2   130      C    EEE\n",
       "3   140      D     IT\n",
       "4   150      E     CS"
      ]
     },
     "execution_count": 50,
     "metadata": {},
     "output_type": "execute_result"
    }
   ],
   "source": [
    "df_fac = pd.DataFrame({'F_id' :[110, 120,130,140,150],'F_name' :['A', 'B', 'C', 'D', 'E'], 'Branch' :['ECE', 'MECH', 'EEE', 'IT', 'CS']})\n",
    "print(\"Student DataFrame:\\n\", df_stud, '\\n Faculty DataFrame :\\n', df_fac)\n",
    "df_fac"
   ]
  },
  {
   "cell_type": "code",
   "execution_count": 51,
   "metadata": {},
   "outputs": [
    {
     "name": "stdout",
     "output_type": "stream",
     "text": [
      "Student DataFrame:\n",
      "    St_id Branch\n",
      "0    101     IT\n",
      "1    102     CS\n",
      "2    103    ECE\n",
      "3    104     CS\n",
      "4    105   MECH \n",
      " Faculty DataFrame :\n",
      "    F_id F_name Branch\n",
      "0   110      A    ECE\n",
      "1   120      B   MECH\n",
      "2   130      C    EEE\n",
      "3   140      D     IT\n",
      "4   150      E     CS\n",
      "   St_id Branch  F_id F_name Branch\n",
      "0    101     IT   110      A    ECE\n",
      "1    102     CS   120      B   MECH\n",
      "2    103    ECE   130      C    EEE\n",
      "3    104     CS   140      D     IT\n",
      "4    105   MECH   150      E     CS\n"
     ]
    }
   ],
   "source": [
    "df_fac = pd.DataFrame({'F_id' :[110, 120,130,140,150],'F_name' :['A', 'B', 'C', 'D', 'E'], 'Branch' :['ECE', 'MECH', 'EEE', 'IT', 'CS']})\n",
    "print(\"Student DataFrame:\\n\", df_stud, '\\n Faculty DataFrame :\\n', df_fac)\n",
    "df_fac\n",
    "print(pd.concat([df_stud,df_fac], axis=1))"
   ]
  },
  {
   "cell_type": "code",
   "execution_count": 52,
   "metadata": {},
   "outputs": [
    {
     "name": "stdout",
     "output_type": "stream",
     "text": [
      "Student DataFrame:\n",
      "    St_id Branch\n",
      "0    101     IT\n",
      "1    102     CS\n",
      "2    103    ECE\n",
      "3    104     CS\n",
      "4    105   MECH \n",
      " Faculty DataFrame :\n",
      "    F_id F_name Branch\n",
      "0   110      A    ECE\n",
      "1   120      B   MECH\n",
      "2   130      C    EEE\n",
      "3   140      D     IT\n",
      "4   150      E     CS\n",
      "   St_id Branch  F_id F_name\n",
      "0    102     CS   150      E\n",
      "1    104     CS   150      E\n",
      "2    103    ECE   110      A\n",
      "3    101     IT   140      D\n",
      "4    105   MECH   120      B\n"
     ]
    }
   ],
   "source": [
    "df_fac = pd.DataFrame({'F_id' :[110, 120,130,140,150],'F_name' :['A', 'B', 'C', 'D', 'E'], 'Branch' :['ECE', 'MECH', 'EEE', 'IT', 'CS']})\n",
    "print(\"Student DataFrame:\\n\", df_stud, '\\n Faculty DataFrame :\\n', df_fac)\n",
    "df_fac\n",
    "print(pd.merge(df_stud,df_fac,on='Branch', sort=True))"
   ]
  },
  {
   "cell_type": "code",
   "execution_count": 54,
   "metadata": {},
   "outputs": [
    {
     "name": "stdout",
     "output_type": "stream",
     "text": [
      "DataFrame1 :\n",
      "   key  data1\n",
      "0   b      0\n",
      "1   a      4\n",
      "2   d      6\n",
      "3   e      8 \n",
      " DataFrame2 :\n",
      "   key  data2\n",
      "0   a      3\n",
      "1   b      6\n",
      "2   d      9\n"
     ]
    }
   ],
   "source": [
    "df1=pd.DataFrame({'key' :['b', 'a', 'd', 'e'], 'data1' :[0,4,6,8]})  # has unique\n",
    "df2=pd.DataFrame({'key' :['a', 'b', 'd'],'data2' :[3,6,9]}) # has unique row labels\n",
    "print(\"DataFrame1 :\\n\", df1, '\\n DataFrame2 :\\n',df2)"
   ]
  },
  {
   "cell_type": "code",
   "execution_count": 57,
   "metadata": {},
   "outputs": [
    {
     "name": "stdout",
     "output_type": "stream",
     "text": [
      "DataFrame1 :\n",
      "   key  data1\n",
      "0   b      0\n",
      "1   a      4\n",
      "2   d      6\n",
      "3   e      8 \n",
      " DataFrame2 :\n",
      "   key  data2\n",
      "0   a      3\n",
      "1   b      6\n",
      "2   d      9\n",
      "Outer Join :\n",
      "   key  data1  data2\n",
      "0   a      4    3.0\n",
      "1   b      0    6.0\n",
      "2   d      6    9.0\n",
      "3   e      8    NaN\n"
     ]
    }
   ],
   "source": [
    "df1=pd.DataFrame({'key' :['b', 'a', 'd', 'e'], 'data1' :[0,4,6,8]})  # has unique\n",
    "df2=pd.DataFrame({'key' :['a', 'b', 'd'],'data2' :[3,6,9]}) # has unique row labels\n",
    "print(\"DataFrame1 :\\n\", df1, '\\n DataFrame2 :\\n',df2)\n",
    "print(\"Outer Join :\\n\", pd.merge(df1,df2,on='key', how='outer', sort=True))  # union of keys"
   ]
  },
  {
   "cell_type": "code",
   "execution_count": 60,
   "metadata": {},
   "outputs": [
    {
     "name": "stdout",
     "output_type": "stream",
     "text": [
      "DataFrame1 :\n",
      "   key  data1\n",
      "0   b      0\n",
      "1   a      4\n",
      "2   d      6\n",
      "3   e      8 \n",
      " DataFrame2 :\n",
      "   key  data2\n",
      "0   a      3\n",
      "1   b      6\n",
      "2   d      9\n",
      "Inner Join :\n",
      "   key  data1  data2\n",
      "0   a      4      3\n",
      "1   b      0      6\n",
      "2   d      6      9\n"
     ]
    }
   ],
   "source": [
    "df1=pd.DataFrame({'key' :['b', 'a', 'd', 'e'], 'data1' :[0,4,6,8]})  # has unique\n",
    "df2=pd.DataFrame({'key' :['a', 'b', 'd'],'data2' :[3,6,9]}) # has unique row labels\n",
    "print(\"DataFrame1 :\\n\", df1, '\\n DataFrame2 :\\n',df2)\n",
    "print(\"Inner Join :\\n\", pd.merge(df1,df2,on='key', how='inner', sort=True))  # intersection of keys"
   ]
  },
  {
   "cell_type": "code",
   "execution_count": 62,
   "metadata": {},
   "outputs": [
    {
     "name": "stdout",
     "output_type": "stream",
     "text": [
      "DataFrame1 :\n",
      "   key  data1\n",
      "0   b      0\n",
      "1   a      4\n",
      "2   d      6\n",
      "3   e      8 \n",
      " DataFrame2 :\n",
      "   key  data2\n",
      "0   a      3\n",
      "1   b      6\n",
      "2   d      9\n",
      "3   f     11\n"
     ]
    }
   ],
   "source": [
    "df1=pd.DataFrame({'key' :['b', 'a', 'd', 'e'], 'data1' :[0,4,6,8]})  # has unique\n",
    "df2=pd.DataFrame({'key' :['a', 'b', 'd', 'f'],'data2' :[3,6,9,11]}) # has unique row labels\n",
    "print(\"DataFrame1 :\\n\", df1, '\\n DataFrame2 :\\n',df2)"
   ]
  },
  {
   "cell_type": "code",
   "execution_count": 69,
   "metadata": {},
   "outputs": [
    {
     "name": "stdout",
     "output_type": "stream",
     "text": [
      "DataFrame1 :\n",
      "   key  data1\n",
      "0   b      0\n",
      "1   a      4\n",
      "2   d      6\n",
      "3   e      8 \n",
      " DataFrame2 :\n",
      "   key  data2\n",
      "0   a      3\n",
      "1   b      6\n",
      "2   d      9\n",
      "3   f     11\n",
      "Left Join :\n",
      "   key  data1  data2\n",
      "0   a      4    3.0\n",
      "1   b      0    6.0\n",
      "2   d      6    9.0\n",
      "3   e      8    NaN\n"
     ]
    }
   ],
   "source": [
    "df1=pd.DataFrame({'key' :['b', 'a', 'd', 'e'], 'data1' :[0,4,6,8]})  # has unique\n",
    "df2=pd.DataFrame({'key' :['a', 'b', 'd', 'f'],'data2' :[3,6,9,11]}) # has unique row labels\n",
    "print(\"DataFrame1 :\\n\", df1, '\\n DataFrame2 :\\n',df2)\n",
    "print(\"Left Join :\\n\", pd.merge(df1,df2,on='key', how='left', sort=True))  # keys of let dataframe"
   ]
  },
  {
   "cell_type": "code",
   "execution_count": 68,
   "metadata": {},
   "outputs": [
    {
     "name": "stdout",
     "output_type": "stream",
     "text": [
      "DataFrame1 :\n",
      "   key  data1\n",
      "0   b      0\n",
      "1   a      4\n",
      "2   d      6\n",
      "3   e      8 \n",
      " DataFrame2 :\n",
      "   key  data2\n",
      "0   a      3\n",
      "1   b      6\n",
      "2   d      9\n",
      "3   f     11\n",
      "Right Join :\n",
      "   key  data1  data2\n",
      "0   a    4.0      3\n",
      "1   b    0.0      6\n",
      "2   d    6.0      9\n",
      "3   f    NaN     11\n"
     ]
    }
   ],
   "source": [
    "df1=pd.DataFrame({'key' :['b', 'a', 'd', 'e'], 'data1' :[0,4,6,8]})  # has unique\n",
    "df2=pd.DataFrame({'key' :['a', 'b', 'd', 'f'],'data2' :[3,6,9,11]}) # has unique row labels\n",
    "print(\"DataFrame1 :\\n\", df1, '\\n DataFrame2 :\\n',df2)\n",
    "print(\"Right Join :\\n\", pd.merge(df1,df2,on='key', how='right', sort=True))  # keys from right dataframe"
   ]
  },
  {
   "cell_type": "code",
   "execution_count": 63,
   "metadata": {},
   "outputs": [
    {
     "name": "stdout",
     "output_type": "stream",
     "text": [
      "DataFrame1 :\n",
      "   key  data1\n",
      "0   b      0\n",
      "1   a      4\n",
      "2   d      6\n",
      "3   e      8 \n",
      " DataFrame2 :\n",
      "   key  data2\n",
      "0   a      3\n",
      "1   b      6\n",
      "2   d      9\n",
      "3   f     11\n",
      "Outer Join :\n",
      "   key  data1  data2\n",
      "0   a    4.0    3.0\n",
      "1   b    0.0    6.0\n",
      "2   d    6.0    9.0\n",
      "3   e    8.0    NaN\n",
      "4   f    NaN   11.0\n"
     ]
    }
   ],
   "source": [
    "df1=pd.DataFrame({'key' :['b', 'a', 'd', 'e'], 'data1' :[0,4,6,8]})  # has unique\n",
    "df2=pd.DataFrame({'key' :['a', 'b', 'd', 'f'],'data2' :[3,6,9,11]}) # has unique row labels\n",
    "print(\"DataFrame1 :\\n\", df1, '\\n DataFrame2 :\\n',df2)\n",
    "print(\"Outer Join :\\n\", pd.merge(df1,df2,on='key', how='outer', sort=True))  # union of keys"
   ]
  },
  {
   "cell_type": "code",
   "execution_count": 64,
   "metadata": {},
   "outputs": [
    {
     "name": "stdout",
     "output_type": "stream",
     "text": [
      "DataFrame1 :\n",
      "   key  data1\n",
      "0   b      0\n",
      "1   a      4\n",
      "2   d      6\n",
      "3   e      8 \n",
      " DataFrame2 :\n",
      "   key  data2\n",
      "0   a      3\n",
      "1   b      6\n",
      "2   d      9\n",
      "3   f     11\n",
      "Inner Join :\n",
      "   key  data1  data2\n",
      "0   a      4      3\n",
      "1   b      0      6\n",
      "2   d      6      9\n"
     ]
    }
   ],
   "source": [
    "df1=pd.DataFrame({'key' :['b', 'a', 'd', 'e'], 'data1' :[0,4,6,8]})  # has unique\n",
    "df2=pd.DataFrame({'key' :['a', 'b', 'd', 'f'],'data2' :[3,6,9,11]}) # has unique row labels\n",
    "print(\"DataFrame1 :\\n\", df1, '\\n DataFrame2 :\\n',df2)\n",
    "print(\"Inner Join :\\n\", pd.merge(df1,df2,on='key', how='inner', sort=True))  # intersection of keys"
   ]
  },
  {
   "cell_type": "markdown",
   "metadata": {},
   "source": [
    "### Summary of the above\n",
    "#### One One join with four cases outer, inner, left and right"
   ]
  },
  {
   "cell_type": "code",
   "execution_count": 4,
   "metadata": {},
   "outputs": [
    {
     "name": "stdout",
     "output_type": "stream",
     "text": [
      "\n",
      "   key  data1\n",
      "0   b     10\n",
      "1   b     20\n",
      "2   a     30\n",
      "3   c     40\n",
      "4   a     50\n",
      "5   a     60\n",
      "\n",
      "   key  data2\n",
      "0   a    100\n",
      "1   b    200\n",
      "2   d    300\n",
      "Right Join:\n",
      "   key  data1  data2\n",
      "0   a   30.0    100\n",
      "1   a   50.0    100\n",
      "2   a   60.0    100\n",
      "3   b   10.0    200\n",
      "4   b   20.0    200\n",
      "5   d    NaN    300\n"
     ]
    }
   ],
   "source": [
    "#many one merge\n",
    "df1=pd.DataFrame({'key':['b', 'b', 'a', 'c', 'a','a'], 'data1':[10,20,30,40,50,60]})\n",
    "df2=pd.DataFrame({'key':['a', 'b', 'd'], 'data2':[100, 200, 300]})\n",
    "print(\"\\n\", df1)\n",
    "print(\"\\n\", df2)\n",
    "#print(\"Outer Join:\\n\", pd.merge(df1, df2, on ='key', how = 'outer', sort=True))   \n",
    "# union of keys \n",
    "#print(\"Inner Join:\\n\", pd.merge(df1, df2, on ='key', how = 'inner', sort=True))    \n",
    "# intersection of keys \n",
    "#print(\"Left Join:\\n\", pd.merge(df1, df2, on ='key', how = 'left', sort=True))  \n",
    "#  keys from left dataframe\n",
    "print(\"Right Join:\\n\", pd.merge(df1, df2, on ='key', how = 'right', sort=True))   \n",
    "#  keys from right  dataframe"
   ]
  },
  {
   "cell_type": "code",
   "execution_count": 5,
   "metadata": {},
   "outputs": [
    {
     "name": "stdout",
     "output_type": "stream",
     "text": [
      "\n",
      "   key  data1\n",
      "0   b     10\n",
      "1   b     20\n",
      "2   a     30\n",
      "3   c     40\n",
      "4   a     50\n",
      "5   a     60\n",
      "\n",
      "   key  data2\n",
      "0   a    100\n",
      "1   b    200\n",
      "2   d    300\n",
      "Outer Join:\n",
      "   key  data1  data2\n",
      "0   a   30.0  100.0\n",
      "1   a   50.0  100.0\n",
      "2   a   60.0  100.0\n",
      "3   b   10.0  200.0\n",
      "4   b   20.0  200.0\n",
      "5   c   40.0    NaN\n",
      "6   d    NaN  300.0\n"
     ]
    }
   ],
   "source": [
    "#many one merge\n",
    "df1=pd.DataFrame({'key':['b', 'b', 'a', 'c', 'a','a'], 'data1':[10,20,30,40,50,60]})\n",
    "df2=pd.DataFrame({'key':['a', 'b', 'd'], 'data2':[100, 200, 300]})\n",
    "print(\"\\n\", df1)\n",
    "print(\"\\n\", df2)\n",
    "print(\"Outer Join:\\n\", pd.merge(df1, df2, on ='key', how = 'outer', sort=True))   \n",
    "# union of keys \n",
    "#print(\"Inner Join:\\n\", pd.merge(df1, df2, on ='key', how = 'inner', sort=True))    \n",
    "# intersection of keys \n",
    "#print(\"Left Join:\\n\", pd.merge(df1, df2, on ='key', how = 'left', sort=True))  \n",
    "#  keys from left dataframe\n",
    "#print(\"Right Join:\\n\", pd.merge(df1, df2, on ='key', how = 'right', sort=True))   \n",
    "#  keys from right  dataframe"
   ]
  },
  {
   "cell_type": "code",
   "execution_count": 6,
   "metadata": {},
   "outputs": [
    {
     "name": "stdout",
     "output_type": "stream",
     "text": [
      "\n",
      "   key  data1\n",
      "0   b     10\n",
      "1   b     20\n",
      "2   a     30\n",
      "3   c     40\n",
      "4   a     50\n",
      "5   a     60\n",
      "\n",
      "   key  data2\n",
      "0   a    100\n",
      "1   b    200\n",
      "2   d    300\n",
      "Inner Join:\n",
      "   key  data1  data2\n",
      "0   a     30    100\n",
      "1   a     50    100\n",
      "2   a     60    100\n",
      "3   b     10    200\n",
      "4   b     20    200\n"
     ]
    }
   ],
   "source": [
    "#many one merge\n",
    "df1=pd.DataFrame({'key':['b', 'b', 'a', 'c', 'a','a'], 'data1':[10,20,30,40,50,60]})\n",
    "df2=pd.DataFrame({'key':['a', 'b', 'd'], 'data2':[100, 200, 300]})\n",
    "print(\"\\n\", df1)\n",
    "print(\"\\n\", df2)\n",
    "#print(\"Outer Join:\\n\", pd.merge(df1, df2, on ='key', how = 'outer', sort=True))   \n",
    "# union of keys \n",
    "print(\"Inner Join:\\n\", pd.merge(df1, df2, on ='key', how = 'inner', sort=True))    \n",
    "# intersection of keys \n",
    "#print(\"Left Join:\\n\", pd.merge(df1, df2, on ='key', how = 'left', sort=True))  \n",
    "#  keys from left dataframe\n",
    "#print(\"Right Join:\\n\", pd.merge(df1, df2, on ='key', how = 'right', sort=True))   \n",
    "#  keys from right  dataframe"
   ]
  },
  {
   "cell_type": "code",
   "execution_count": 7,
   "metadata": {},
   "outputs": [
    {
     "name": "stdout",
     "output_type": "stream",
     "text": [
      "\n",
      "   key  data1\n",
      "0   b     10\n",
      "1   b     20\n",
      "2   a     30\n",
      "3   c     40\n",
      "4   a     50\n",
      "5   a     60\n",
      "\n",
      "   key  data2\n",
      "0   a    100\n",
      "1   b    200\n",
      "2   d    300\n",
      "Left Join:\n",
      "   key  data1  data2\n",
      "0   a     30  100.0\n",
      "1   a     50  100.0\n",
      "2   a     60  100.0\n",
      "3   b     10  200.0\n",
      "4   b     20  200.0\n",
      "5   c     40    NaN\n"
     ]
    }
   ],
   "source": [
    "#many one merge\n",
    "df1=pd.DataFrame({'key':['b', 'b', 'a', 'c', 'a','a'], 'data1':[10,20,30,40,50,60]})\n",
    "df2=pd.DataFrame({'key':['a', 'b', 'd'], 'data2':[100, 200, 300]})\n",
    "print(\"\\n\", df1)\n",
    "print(\"\\n\", df2)\n",
    "#print(\"Outer Join:\\n\", pd.merge(df1, df2, on ='key', how = 'outer', sort=True))   \n",
    "# union of keys \n",
    "#print(\"Inner Join:\\n\", pd.merge(df1, df2, on ='key', how = 'inner', sort=True))    \n",
    "# intersection of keys \n",
    "print(\"Left Join:\\n\", pd.merge(df1, df2, on ='key', how = 'left', sort=True))  \n",
    "#  keys from left dataframe\n",
    "#print(\"Right Join:\\n\", pd.merge(df1, df2, on ='key', how = 'right', sort=True))   \n",
    "#  keys from right  dataframe"
   ]
  },
  {
   "cell_type": "code",
   "execution_count": 8,
   "metadata": {},
   "outputs": [
    {
     "name": "stdout",
     "output_type": "stream",
     "text": [
      "DataFrame1 : \n",
      "   key  data1\n",
      "0   b     10\n",
      "1   b     20\n",
      "2   a     30\n",
      "3   c     40\n",
      "4   a     50\n",
      "5   a     60 \n",
      "DataFrame2 :\n",
      "   key  data2\n",
      "0   a    100\n",
      "1   b    200\n",
      "2   b    300\n",
      "3   a    400\n",
      "4   d    500\n",
      "Outer Join:\n",
      "    key  data1  data2\n",
      "0    a   30.0  100.0\n",
      "1    a   30.0  400.0\n",
      "2    a   50.0  100.0\n",
      "3    a   50.0  400.0\n",
      "4    a   60.0  100.0\n",
      "5    a   60.0  400.0\n",
      "6    b   10.0  200.0\n",
      "7    b   10.0  300.0\n",
      "8    b   20.0  200.0\n",
      "9    b   20.0  300.0\n",
      "10   c   40.0    NaN\n",
      "11   d    NaN  500.0\n"
     ]
    }
   ],
   "source": [
    "# Many many merge\n",
    "df1 =pd. DataFrame({'key' : ['b', 'b', 'a','c', 'a', 'a'], 'data1': [10,20,30,40,50,60]})  \n",
    "#has multiple rows labelled a and b\n",
    "df2 = pd.DataFrame({'key' : ['a', 'b', 'b', 'a', 'd'], 'data2': [100,200,300,400,500]})\n",
    "print(\"DataFrame1 : \\n\", df1, '\\nDataFrame2 :\\n', df2)\n",
    "\n",
    "#Example of many to many  merge situation\n",
    "#No of rows in the dataframe = 6x5 for outer\n",
    "\n",
    "print(\"Outer Join:\\n\", pd.merge(df1, df2, on ='key', how = 'outer', sort=True))   \n",
    "# Union of keys \n",
    "\n",
    "#print(\"Inner Join:\\n\", pd.merge(df1, df2, on ='key', how = 'inner', sort=True))   \n",
    "# Intersection of keys\n",
    "\n",
    "#print(\"Left Join:\\n\", pd.merge(df1, df2, on ='key', how = 'left', sort=True))    \n",
    "#  keys from left dataframe\n",
    "\n",
    "#print(\"Right Join:\\n\", pd.merge(df1, df2, on ='key', how = 'right', sort=True))     # \n",
    "#Here left and outer is same and Right and Inner is same"
   ]
  },
  {
   "cell_type": "code",
   "execution_count": 9,
   "metadata": {},
   "outputs": [
    {
     "name": "stdout",
     "output_type": "stream",
     "text": [
      "DataFrame1 : \n",
      "   key  data1\n",
      "0   b     10\n",
      "1   b     20\n",
      "2   a     30\n",
      "3   c     40\n",
      "4   a     50\n",
      "5   a     60 \n",
      "DataFrame2 :\n",
      "   key  data2\n",
      "0   a    100\n",
      "1   b    200\n",
      "2   b    300\n",
      "3   a    400\n",
      "4   d    500\n",
      "Inner Join:\n",
      "   key  data1  data2\n",
      "0   a     30    100\n",
      "1   a     30    400\n",
      "2   a     50    100\n",
      "3   a     50    400\n",
      "4   a     60    100\n",
      "5   a     60    400\n",
      "6   b     10    200\n",
      "7   b     10    300\n",
      "8   b     20    200\n",
      "9   b     20    300\n"
     ]
    }
   ],
   "source": [
    "# Many many merge\n",
    "df1 =pd. DataFrame({'key' : ['b', 'b', 'a','c', 'a', 'a'], 'data1': [10,20,30,40,50,60]})  \n",
    "#has multiple rows labelled a and b\n",
    "df2 = pd.DataFrame({'key' : ['a', 'b', 'b', 'a', 'd'], 'data2': [100,200,300,400,500]})\n",
    "print(\"DataFrame1 : \\n\", df1, '\\nDataFrame2 :\\n', df2)\n",
    "\n",
    "#Example of many to many  merge situation\n",
    "#No of rows in the dataframe = 6x5 for outer\n",
    "\n",
    "#print(\"Outer Join:\\n\", pd.merge(df1, df2, on ='key', how = 'outer', sort=True))   \n",
    "# Union of keys \n",
    "\n",
    "print(\"Inner Join:\\n\", pd.merge(df1, df2, on ='key', how = 'inner', sort=True))   \n",
    "# Intersection of keys\n",
    "\n",
    "#print(\"Left Join:\\n\", pd.merge(df1, df2, on ='key', how = 'left', sort=True))    \n",
    "#  keys from left dataframe\n",
    "\n",
    "#print(\"Right Join:\\n\", pd.merge(df1, df2, on ='key', how = 'right', sort=True))     # \n",
    "#Here left and outer is same and Right and Inner is same"
   ]
  },
  {
   "cell_type": "code",
   "execution_count": 10,
   "metadata": {},
   "outputs": [
    {
     "name": "stdout",
     "output_type": "stream",
     "text": [
      "DataFrame1 : \n",
      "   key  data1\n",
      "0   b     10\n",
      "1   b     20\n",
      "2   a     30\n",
      "3   c     40\n",
      "4   a     50\n",
      "5   a     60 \n",
      "DataFrame2 :\n",
      "   key  data2\n",
      "0   a    100\n",
      "1   b    200\n",
      "2   b    300\n",
      "3   a    400\n",
      "4   d    500\n",
      "Left Join:\n",
      "    key  data1  data2\n",
      "0    a     30  100.0\n",
      "1    a     30  400.0\n",
      "2    a     50  100.0\n",
      "3    a     50  400.0\n",
      "4    a     60  100.0\n",
      "5    a     60  400.0\n",
      "6    b     10  200.0\n",
      "7    b     10  300.0\n",
      "8    b     20  200.0\n",
      "9    b     20  300.0\n",
      "10   c     40    NaN\n"
     ]
    }
   ],
   "source": [
    "# Many many merge\n",
    "df1 =pd. DataFrame({'key' : ['b', 'b', 'a','c', 'a', 'a'], 'data1': [10,20,30,40,50,60]})  \n",
    "#has multiple rows labelled a and b\n",
    "df2 = pd.DataFrame({'key' : ['a', 'b', 'b', 'a', 'd'], 'data2': [100,200,300,400,500]})\n",
    "print(\"DataFrame1 : \\n\", df1, '\\nDataFrame2 :\\n', df2)\n",
    "\n",
    "#Example of many to many  merge situation\n",
    "#No of rows in the dataframe = 6x5 for outer\n",
    "\n",
    "#print(\"Outer Join:\\n\", pd.merge(df1, df2, on ='key', how = 'outer', sort=True))   \n",
    "# Union of keys \n",
    "\n",
    "#print(\"Inner Join:\\n\", pd.merge(df1, df2, on ='key', how = 'inner', sort=True))   \n",
    "# Intersection of keys\n",
    "\n",
    "print(\"Left Join:\\n\", pd.merge(df1, df2, on ='key', how = 'left', sort=True))    \n",
    "#  keys from left dataframe\n",
    "\n",
    "#print(\"Right Join:\\n\", pd.merge(df1, df2, on ='key', how = 'right', sort=True))     # \n",
    "#Here left and outer is same and Right and Inner is same"
   ]
  },
  {
   "cell_type": "code",
   "execution_count": 11,
   "metadata": {},
   "outputs": [
    {
     "name": "stdout",
     "output_type": "stream",
     "text": [
      "DataFrame1 : \n",
      "   key  data1\n",
      "0   b     10\n",
      "1   b     20\n",
      "2   a     30\n",
      "3   c     40\n",
      "4   a     50\n",
      "5   a     60 \n",
      "DataFrame2 :\n",
      "   key  data2\n",
      "0   a    100\n",
      "1   b    200\n",
      "2   b    300\n",
      "3   a    400\n",
      "4   d    500\n",
      "Left Join:\n",
      "    key  data1  data2\n",
      "0    a     30  100.0\n",
      "1    a     30  400.0\n",
      "2    a     50  100.0\n",
      "3    a     50  400.0\n",
      "4    a     60  100.0\n",
      "5    a     60  400.0\n",
      "6    b     10  200.0\n",
      "7    b     10  300.0\n",
      "8    b     20  200.0\n",
      "9    b     20  300.0\n",
      "10   c     40    NaN\n"
     ]
    }
   ],
   "source": [
    "# Many many merge\n",
    "df1 =pd. DataFrame({'key' : ['b', 'b', 'a','c', 'a', 'a'], 'data1': [10,20,30,40,50,60]})  \n",
    "#has multiple rows labelled a and b\n",
    "df2 = pd.DataFrame({'key' : ['a', 'b', 'b', 'a', 'd'], 'data2': [100,200,300,400,500]})\n",
    "print(\"DataFrame1 : \\n\", df1, '\\nDataFrame2 :\\n', df2)\n",
    "\n",
    "#Example of many to many  merge situation\n",
    "#No of rows in the dataframe = 6x5 for outer\n",
    "\n",
    "#print(\"Outer Join:\\n\", pd.merge(df1, df2, on ='key', how = 'outer', sort=True))   \n",
    "# Union of keys \n",
    "\n",
    "#print(\"Inner Join:\\n\", pd.merge(df1, df2, on ='key', how = 'inner', sort=True))   \n",
    "# Intersection of keys\n",
    "\n",
    "print(\"Left Join:\\n\", pd.merge(df1, df2, on ='key', how = 'left', sort=True))    \n",
    "#  keys from left dataframe\n",
    "\n",
    "#print(\"Right Join:\\n\", pd.merge(df1, df2, on ='key', how = 'right', sort=True))     # \n",
    "#Here left and outer is same and Right and Inner is same"
   ]
  },
  {
   "cell_type": "code",
   "execution_count": 12,
   "metadata": {},
   "outputs": [
    {
     "name": "stdout",
     "output_type": "stream",
     "text": [
      "DataFrame1 : \n",
      "   key  data1\n",
      "0   b     10\n",
      "1   b     20\n",
      "2   a     30\n",
      "3   c     40\n",
      "4   a     50\n",
      "5   a     60 \n",
      "DataFrame2 :\n",
      "   key  data2\n",
      "0   a    100\n",
      "1   b    200\n",
      "2   b    300\n",
      "3   a    400\n",
      "4   d    500\n",
      "Right Join:\n",
      "    key  data1  data2\n",
      "0    a   30.0    100\n",
      "1    a   50.0    100\n",
      "2    a   60.0    100\n",
      "3    a   30.0    400\n",
      "4    a   50.0    400\n",
      "5    a   60.0    400\n",
      "6    b   10.0    200\n",
      "7    b   20.0    200\n",
      "8    b   10.0    300\n",
      "9    b   20.0    300\n",
      "10   d    NaN    500\n"
     ]
    }
   ],
   "source": [
    "# Many many merge\n",
    "df1 =pd. DataFrame({'key' : ['b', 'b', 'a','c', 'a', 'a'], 'data1': [10,20,30,40,50,60]})  \n",
    "#has multiple rows labelled a and b\n",
    "df2 = pd.DataFrame({'key' : ['a', 'b', 'b', 'a', 'd'], 'data2': [100,200,300,400,500]})\n",
    "print(\"DataFrame1 : \\n\", df1, '\\nDataFrame2 :\\n', df2)\n",
    "\n",
    "#Example of many to many  merge situation\n",
    "#No of rows in the dataframe = 6x5 for outer\n",
    "\n",
    "#print(\"Outer Join:\\n\", pd.merge(df1, df2, on ='key', how = 'outer', sort=True))   \n",
    "# Union of keys \n",
    "\n",
    "#print(\"Inner Join:\\n\", pd.merge(df1, df2, on ='key', how = 'inner', sort=True))   \n",
    "# Intersection of keys\n",
    "\n",
    "#print(\"Left Join:\\n\", pd.merge(df1, df2, on ='key', how = 'left', sort=True))    \n",
    "#  keys from left dataframe\n",
    "\n",
    "print(\"Right Join:\\n\", pd.merge(df1, df2, on ='key', how = 'right', sort=True))     # \n",
    "#Here left and outer is same and Right and Inner is same"
   ]
  },
  {
   "cell_type": "code",
   "execution_count": null,
   "metadata": {},
   "outputs": [],
   "source": []
  },
  {
   "cell_type": "code",
   "execution_count": null,
   "metadata": {},
   "outputs": [],
   "source": []
  },
  {
   "cell_type": "code",
   "execution_count": null,
   "metadata": {},
   "outputs": [],
   "source": []
  }
 ],
 "metadata": {
  "kernelspec": {
   "display_name": "Python 3",
   "language": "python",
   "name": "python3"
  },
  "language_info": {
   "codemirror_mode": {
    "name": "ipython",
    "version": 3
   },
   "file_extension": ".py",
   "mimetype": "text/x-python",
   "name": "python",
   "nbconvert_exporter": "python",
   "pygments_lexer": "ipython3",
   "version": "3.7.6"
  }
 },
 "nbformat": 4,
 "nbformat_minor": 4
}
